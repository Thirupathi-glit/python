{
 "cells": [
  {
   "cell_type": "code",
   "execution_count": 1,
   "id": "2b263294-72d9-44cb-b82f-49c708f82b7a",
   "metadata": {},
   "outputs": [
    {
     "name": "stdout",
     "output_type": "stream",
     "text": [
      "hello thiru\n"
     ]
    }
   ],
   "source": [
    "print(\"hello thiru\")"
   ]
  },
  {
   "cell_type": "markdown",
   "id": "a7034354-ecf9-40a1-8854-837abbdc9b42",
   "metadata": {},
   "source": [
    "# comments"
   ]
  },
  {
   "cell_type": "code",
   "execution_count": 2,
   "id": "2dc77ed3-b5e9-4d55-b54f-065ae1dd5e29",
   "metadata": {},
   "outputs": [
    {
     "data": {
      "text/plain": [
       "11"
      ]
     },
     "execution_count": 2,
     "metadata": {},
     "output_type": "execute_result"
    }
   ],
   "source": [
    "# single line comment\n",
    "\n",
    "#add two numbers\n",
    "5+6"
   ]
  },
  {
   "cell_type": "code",
   "execution_count": 11,
   "id": "0d7da017-8095-46f5-a8a3-dfca946e6616",
   "metadata": {},
   "outputs": [
    {
     "data": {
      "text/plain": [
       "30"
      ]
     },
     "execution_count": 11,
     "metadata": {},
     "output_type": "execute_result"
    }
   ],
   "source": [
    "'''\n",
    "line1\n",
    "line2\n",
    "line3\n",
    ".\n",
    ".\n",
    ".\n",
    ".\n",
    "lineN\n",
    "'''\n",
    "5*6"
   ]
  },
  {
   "cell_type": "code",
   "execution_count": 7,
   "id": "91b83743-68dc-46da-bc12-471555300668",
   "metadata": {},
   "outputs": [
    {
     "data": {
      "text/plain": [
       "11"
      ]
     },
     "execution_count": 7,
     "metadata": {},
     "output_type": "execute_result"
    }
   ],
   "source": [
    "# line1\n",
    "# line2\n",
    "# line3\n",
    "# .\n",
    "# .\n",
    "# .\n",
    "# .\n",
    "# line4\n",
    "5+6"
   ]
  },
  {
   "cell_type": "markdown",
   "id": "3c4a2d88-50b6-413d-a5f6-956035b85bc2",
   "metadata": {},
   "source": [
    "# qutoes"
   ]
  },
  {
   "cell_type": "code",
   "execution_count": 12,
   "id": "65867b71-5d04-4d4e-b396-23a05bd95bb9",
   "metadata": {},
   "outputs": [
    {
     "ename": "SyntaxError",
     "evalue": "EOL while scanning string literal (2504036007.py, line 1)",
     "output_type": "error",
     "traceback": [
      "\u001b[1;36m  Cell \u001b[1;32mIn[12], line 1\u001b[1;36m\u001b[0m\n\u001b[1;33m    '\u001b[0m\n\u001b[1;37m     ^\u001b[0m\n\u001b[1;31mSyntaxError\u001b[0m\u001b[1;31m:\u001b[0m EOL while scanning string literal\n"
     ]
    }
   ],
   "source": [
    "'\n",
    "\"\n",
    "'''  | \"\"\""
   ]
  },
  {
   "cell_type": "code",
   "execution_count": 18,
   "id": "1dbce4f0-d005-4665-addd-9d06e4a1a0ef",
   "metadata": {},
   "outputs": [
    {
     "name": "stdout",
     "output_type": "stream",
     "text": [
      "Riyansh\n"
     ]
    }
   ],
   "source": [
    "name='Riyansh'\n",
    "print(name)"
   ]
  },
  {
   "cell_type": "code",
   "execution_count": 20,
   "id": "517f2ed1-c102-44a6-9fc2-667075decdd6",
   "metadata": {},
   "outputs": [
    {
     "name": "stdout",
     "output_type": "stream",
     "text": [
      "Idexcel\n"
     ]
    }
   ],
   "source": [
    "company=\"Idexcel\"\n",
    "print(company)"
   ]
  },
  {
   "cell_type": "code",
   "execution_count": 24,
   "id": "b4a1ca33-8f6c-4072-9687-e806a666a3d4",
   "metadata": {},
   "outputs": [
    {
     "name": "stdout",
     "output_type": "stream",
     "text": [
      "st's joesph colleage engineer\n"
     ]
    }
   ],
   "source": [
    "college='st\\'s joesph colleage engineer'\n",
    "print(college)"
   ]
  },
  {
   "cell_type": "code",
   "execution_count": 25,
   "id": "cb3912d5-161e-4c3b-b233-1654e2ec8655",
   "metadata": {},
   "outputs": [],
   "source": [
    "about=\"Python is high-level language\""
   ]
  },
  {
   "cell_type": "code",
   "execution_count": 26,
   "id": "89aca654-931e-45cd-8250-84d5633122c6",
   "metadata": {},
   "outputs": [
    {
     "name": "stdout",
     "output_type": "stream",
     "text": [
      "Python is high-level language\n"
     ]
    }
   ],
   "source": [
    "print(about)"
   ]
  },
  {
   "cell_type": "code",
   "execution_count": 55,
   "id": "8df77a60-d5e9-462d-b2e1-fc76f4cfeffe",
   "metadata": {},
   "outputs": [
    {
     "name": "stdout",
     "output_type": "stream",
     "text": [
      "you can vote\n",
      "indian rule\n"
     ]
    }
   ],
   "source": [
    "x=20\n",
    "if x>18:\n",
    "  print(\"you can vote\")\n",
    "  print(\"indian rule\")\n",
    "else:\n",
    "  print(\"you cant vote\")\n",
    "  print(\"indian rule\")"
   ]
  },
  {
   "cell_type": "code",
   "execution_count": 45,
   "id": "d47b5a2b-bcbf-4980-be6a-1a012be3a9f5",
   "metadata": {},
   "outputs": [
    {
     "name": "stdout",
     "output_type": "stream",
     "text": [
      "fdhjsfdghsj\n",
      "hsjdc\n"
     ]
    }
   ],
   "source": [
    "x=15\n",
    "if x<12:\n",
    "  print(\"you can vote\")\n",
    "  print(\"vbxkzkxjchgvdhsj\")\n",
    "else:\n",
    "  print(\"fdhjsfdghsj\")  \n",
    "  print(\"hsjdc\")  \n"
   ]
  },
  {
   "cell_type": "code",
   "execution_count": 45,
   "id": "aa1b1d20-0e5b-41b7-8dc7-7444df9bcfb4",
   "metadata": {},
   "outputs": [
    {
     "name": "stdout",
     "output_type": "stream",
     "text": [
      "fdhjsfdghsj\n",
      "hsjdc\n"
     ]
    }
   ],
   "source": [
    "x=15\n",
    "if x<12:\n",
    "  print(\"you can vote\")\n",
    "  print(\"vbxkzkxjchgvdhsj\")\n",
    "else:\n",
    "  print(\"fdhjsfdghsj\")  \n",
    "  print(\"hsjdc\")  \n"
   ]
  },
  {
   "cell_type": "code",
   "execution_count": 45,
   "id": "8038f426-1fac-44ef-be0f-396460f32c75",
   "metadata": {},
   "outputs": [
    {
     "name": "stdout",
     "output_type": "stream",
     "text": [
      "fdhjsfdghsj\n",
      "hsjdc\n"
     ]
    }
   ],
   "source": [
    "x=15\n",
    "if x<12:\n",
    "  print(\"you can vote\")\n",
    "  print(\"vbxkzkxjchgvdhsj\")\n",
    "else:\n",
    "  print(\"fdhjsfdghsj\")  \n",
    "  print(\"hsjdc\")  \n"
   ]
  },
  {
   "cell_type": "code",
   "execution_count": 45,
   "id": "25aa393c-e568-4f1e-8996-21350b7aff19",
   "metadata": {},
   "outputs": [
    {
     "name": "stdout",
     "output_type": "stream",
     "text": [
      "fdhjsfdghsj\n",
      "hsjdc\n"
     ]
    }
   ],
   "source": [
    "x=15\n",
    "if x<12:\n",
    "  print(\"you can vote\")\n",
    "  print(\"vbxkzkxjchgvdhsj\")\n",
    "else:\n",
    "  print(\"fdhjsfdghsj\")  \n",
    "  print(\"hsjdc\")  \n"
   ]
  },
  {
   "cell_type": "code",
   "execution_count": 45,
   "id": "05c8ce6d-ed4a-45dc-87f8-2329c6e52147",
   "metadata": {},
   "outputs": [
    {
     "name": "stdout",
     "output_type": "stream",
     "text": [
      "fdhjsfdghsj\n",
      "hsjdc\n"
     ]
    }
   ],
   "source": [
    "x=15\n",
    "if x<12:\n",
    "  print(\"you can vote\")\n",
    "  print(\"vbxkzkxjchgvdhsj\")\n",
    "else:\n",
    "  print(\"fdhjsfdghsj\")  \n",
    "  print(\"hsjdc\")  \n"
   ]
  },
  {
   "cell_type": "code",
   "execution_count": null,
   "id": "328eb8f1-0ba0-4903-b297-f2fb69c707a7",
   "metadata": {},
   "outputs": [],
   "source": []
  },
  {
   "cell_type": "code",
   "execution_count": 53,
   "id": "a45623a4-85bf-44db-ae7d-e8d9ed9a0636",
   "metadata": {},
   "outputs": [
    {
     "name": "stdout",
     "output_type": "stream",
     "text": [
      "ThiruArav\n"
     ]
    }
   ],
   "source": [
    "a=\"Thiru\"\n",
    "b=\"Arav\"\n",
    "y=a+b\n",
    "print(y)"
   ]
  },
  {
   "cell_type": "code",
   "execution_count": 4,
   "id": "7ec7580d-c095-49c4-aa75-fefe6d909fc8",
   "metadata": {},
   "outputs": [
    {
     "name": "stdout",
     "output_type": "stream",
     "text": [
      "02\n"
     ]
    }
   ],
   "source": [
    "a,b='06'\n",
    "b,c='26'\n",
    "print(a+b)"
   ]
  },
  {
   "cell_type": "code",
   "execution_count": 37,
   "id": "a49f66cc-a2e8-4849-9c40-a554fcb83b28",
   "metadata": {},
   "outputs": [
    {
     "name": "stdout",
     "output_type": "stream",
     "text": [
      "you can eligibity for vote\n",
      "indian rule\n"
     ]
    }
   ],
   "source": [
    "x>25\n",
    "if x>2:\n",
    "    print(\"you can eligibity for vote\")\n",
    "    print(\"indian rule\")\n",
    "else:    \n",
    "    print(\"you are not eligibility for vote\")\n",
    "    print(\"Indian rule\")"
   ]
  },
  {
   "cell_type": "code",
   "execution_count": 57,
   "id": "7a4b228d-dc02-4338-8396-6aaf020f7af1",
   "metadata": {},
   "outputs": [
    {
     "name": "stdout",
     "output_type": "stream",
     "text": [
      "You are a just born baby!\n"
     ]
    }
   ],
   "source": [
    "age=0\n",
    "if age>18 and age>100:\n",
    "    print(\"you can vote\")\n",
    "    print(\"It is valid only for indian citizen\")\n",
    "    print(\"pleasde check your own city standards if you are from other country\")\n",
    "elif age<0 or age>100:\n",
    "    print(\"Invalid age. Please check\")\n",
    "elif age==0:\n",
    "    print(\"You are a just born baby!\")\n",
    "else:\n",
    "    print(\"You cannot vote\")\n",
    "    print(\"Because you are less than 18 years old\")\n",
    "    print(\"Out of conditional statement\")\n",
    "    "
   ]
  },
  {
   "cell_type": "markdown",
   "id": "809485db-e1bc-440b-b730-852b61e4dd78",
   "metadata": {},
   "source": [
    " # print function"
   ]
  },
  {
   "cell_type": "code",
   "execution_count": 58,
   "id": "652dfed3-ce70-4c53-859d-5e3cd6b7ec50",
   "metadata": {},
   "outputs": [
    {
     "name": "stdout",
     "output_type": "stream",
     "text": [
      "hello thiru\n"
     ]
    }
   ],
   "source": [
    "print(\"hello thiru\")"
   ]
  },
  {
   "cell_type": "code",
   "execution_count": 63,
   "id": "abc7a58b-5cb7-4f63-b0a8-e7715316a44a",
   "metadata": {},
   "outputs": [
    {
     "name": "stdout",
     "output_type": "stream",
     "text": [
      "Thirupathi\n"
     ]
    }
   ],
   "source": [
    "name='Thirupathi'\n",
    "print(name)"
   ]
  },
  {
   "cell_type": "code",
   "execution_count": 71,
   "id": "6a958a33-a9d7-43d7-9a9e-509d9ad66a6c",
   "metadata": {},
   "outputs": [
    {
     "name": "stdout",
     "output_type": "stream",
     "text": [
      "Trainer's name is Thirupathi and he is 27 years old\n"
     ]
    }
   ],
   "source": [
    "name='Thirupathi'\n",
    "age='27'\n",
    "\n",
    "# Trainer's name is Thirupathi and he is 27 years old\n",
    "\n",
    "print(\"Trainer's name is\",name, \"and he is\",age, \"years old\")"
   ]
  },
  {
   "cell_type": "code",
   "execution_count": 72,
   "id": "be087c56-4643-416c-9bee-2b03b624f076",
   "metadata": {},
   "outputs": [
    {
     "name": "stdout",
     "output_type": "stream",
     "text": [
      "Trainer's name is Thirupathi and he is 27 years old\n"
     ]
    }
   ],
   "source": [
    "name='Thirupathi'\n",
    "age='27'\n",
    "\n",
    "# Trainer's name is Thirupathi and he is 27 years old\n",
    "\n",
    "print(\"Trainer's name is\",name, \"and he is\",age, \"years old\")"
   ]
  },
  {
   "cell_type": "code",
   "execution_count": 77,
   "id": "63d7ef0f-4b7d-41e7-950f-404c6817efcf",
   "metadata": {},
   "outputs": [
    {
     "name": "stdout",
     "output_type": "stream",
     "text": [
      "Trainer's name is Thirupathi and he is 27 years old\n"
     ]
    }
   ],
   "source": [
    "print(\"Trainer's name is {} and he is {} years old\".format(name,age))"
   ]
  },
  {
   "cell_type": "code",
   "execution_count": 78,
   "id": "9014f87e-e657-4c70-a54f-a4f9e543345f",
   "metadata": {},
   "outputs": [
    {
     "name": "stdout",
     "output_type": "stream",
     "text": [
      "Trainer's name is Thirupathi and he is 27 years old\n"
     ]
    }
   ],
   "source": [
    "print(f\"Trainer's name is {name} and he is {age} years old\")"
   ]
  },
  {
   "cell_type": "code",
   "execution_count": 82,
   "id": "3bc7b6a8-8b70-42ab-aeb1-356ba636544b",
   "metadata": {},
   "outputs": [
    {
     "name": "stdout",
     "output_type": "stream",
     "text": [
      "Trainer's name is:name\n"
     ]
    }
   ],
   "source": [
    "print(\"Trainer's name is:name\")"
   ]
  },
  {
   "cell_type": "code",
   "execution_count": 83,
   "id": "f89e512f-5887-42a6-9209-73b284aac86c",
   "metadata": {},
   "outputs": [
    {
     "name": "stdout",
     "output_type": "stream",
     "text": [
      "Trainer's name is: Thirupathi\n"
     ]
    }
   ],
   "source": [
    "print(\"Trainer's name is:\",name)"
   ]
  },
  {
   "cell_type": "code",
   "execution_count": 85,
   "id": "10a75b65-16c6-47ef-93e8-98d77271a9e7",
   "metadata": {},
   "outputs": [
    {
     "name": "stdout",
     "output_type": "stream",
     "text": [
      "Trainer's age is: 27\n"
     ]
    }
   ],
   "source": [
    "print(\"Trainer's age is:\",age)"
   ]
  },
  {
   "cell_type": "markdown",
   "id": "b75bfb90-9875-434e-bf4c-248aacc2fd11",
   "metadata": {},
   "source": [
    "# input Function"
   ]
  },
  {
   "cell_type": "code",
   "execution_count": 2,
   "id": "995fa734-d2ab-4fcf-a573-a43e396eb918",
   "metadata": {},
   "outputs": [
    {
     "name": "stdin",
     "output_type": "stream",
     "text": [
      "enter your name Gangadhari Thirupathi\n",
      "enter your age 24\n"
     ]
    },
    {
     "name": "stdout",
     "output_type": "stream",
     "text": [
      "type of input name is: <class 'str'>\n",
      "type of input name is: <class 'str'>\n"
     ]
    }
   ],
   "source": [
    "name=input(\"enter your name\")\n",
    "age=input(\"enter your age\")\n",
    "print(\"type of input name is:\",type(name))\n",
    "print(\"type of input name is:\",type(age))"
   ]
  },
  {
   "cell_type": "code",
   "execution_count": 3,
   "id": "1023008f-8381-4bc1-8bc3-20ac8c162da4",
   "metadata": {},
   "outputs": [
    {
     "name": "stdin",
     "output_type": "stream",
     "text": [
      "enter your name Gangadhari Thirupathi\n",
      "enter your age 24\n"
     ]
    },
    {
     "name": "stdout",
     "output_type": "stream",
     "text": [
      "type of input name is: <class 'str'>\n",
      "type of input name is: <class 'int'>\n"
     ]
    }
   ],
   "source": [
    "name=input(\"enter your name\")\n",
    "age=int(input(\"enter your age\"))\n",
    "print(\"type of input name is:\",type(name))\n",
    "print(\"type of input name is:\",type(age))"
   ]
  },
  {
   "cell_type": "code",
   "execution_count": 8,
   "id": "b50a4dc6-7b2b-455e-b8ac-de06f7920ddf",
   "metadata": {},
   "outputs": [
    {
     "name": "stdin",
     "output_type": "stream",
     "text": [
      "enter your name Gangadhari Thirupathi\n",
      "enter your age 24\n"
     ]
    },
    {
     "name": "stdout",
     "output_type": "stream",
     "text": [
      "type of input name is: <class 'str'>\n",
      "type of input name is: <class 'int'>\n",
      "Age is: 26\n"
     ]
    }
   ],
   "source": [
    "name=input(\"enter your name\")\n",
    "age=int(input(\"enter your age\"))\n",
    "age=age+2\n",
    "print(\"type of input name is:\",type(name))\n",
    "print(\"type of input name is:\",type(age))\n",
    "print(\"Age is:\",age)"
   ]
  },
  {
   "cell_type": "code",
   "execution_count": 13,
   "id": "e3c53b01-6088-44ae-8127-fe70bb42675a",
   "metadata": {},
   "outputs": [
    {
     "name": "stdin",
     "output_type": "stream",
     "text": [
      "enter your name Thuiru\n",
      "enter your accountnumber 55454454544\n",
      "enter your pincode 4465464\n"
     ]
    },
    {
     "name": "stdout",
     "output_type": "stream",
     "text": [
      "Thuiru,55454454544,4465464\n"
     ]
    }
   ],
   "source": [
    "name=input(\"enter your name\")\n",
    "accountnumber=input(\"enter your accountnumber\")\n",
    "pincode=input(\"enter your pincode\")\n",
    "print(\"{},{},{}\".format(name, accountnumber,pincode))"
   ]
  },
  {
   "cell_type": "code",
   "execution_count": 16,
   "id": "adbdc6ab-8c87-4cbe-8340-8fd29d601dda",
   "metadata": {},
   "outputs": [
    {
     "name": "stdin",
     "output_type": "stream",
     "text": [
      "enter your name Gangadhari Thirupathi\n",
      "enter your accountnumber 55454454544\n",
      "enter your pincode 560029\n"
     ]
    },
    {
     "name": "stdout",
     "output_type": "stream",
     "text": [
      "Gangadhari Thirupathi,55454454544,560029\n",
      "the type of name:<class 'str'>,accountnumber:<class 'str'> and pincode:<class 'int'>\n"
     ]
    }
   ],
   "source": [
    "name=input(\"enter your name\")\n",
    "accountnumber=input(\"enter your accountnumber\")\n",
    "pincode=int(input(\"enter your pincode\"))\n",
    "print(\"{},{},{}\".format(name, accountnumber,pincode))\n",
    "print(\"the type of name:{},accountnumber:{} and pincode:{}\".format(type(name),type(accountnumber),type(pincode)))"
   ]
  },
  {
   "cell_type": "code",
   "execution_count": 17,
   "id": "1ad6a410-0613-42fe-9ec9-fcbb65f7f540",
   "metadata": {},
   "outputs": [
    {
     "name": "stdin",
     "output_type": "stream",
     "text": [
      "Enter your name:  Gangadhari Thirupathi\n",
      "Enter your age:  56\n",
      "Enter your height in meters:  3\n"
     ]
    },
    {
     "name": "stdout",
     "output_type": "stream",
     "text": [
      "Hello, Gangadhari Thirupathi! You are 56 years old and 3.0 meters tall.\n"
     ]
    }
   ],
   "source": [
    "def get_user_info():\n",
    "    try:\n",
    "        name = input(\"Enter your name: \")\n",
    "        age = int(input(\"Enter your age: \"))\n",
    "        height = float(input(\"Enter your height in meters: \"))\n",
    "        print(f\"Hello, {name}! You are {age} years old and {height} meters tall.\")\n",
    "    except ValueError:\n",
    "        print(\"Invalid input. Please enter a valid number for age and height.\")\n",
    "\n",
    "get_user_info()\n"
   ]
  },
  {
   "cell_type": "code",
   "execution_count": 19,
   "id": "49eec60e-0395-4819-be1c-98111d129287",
   "metadata": {},
   "outputs": [
    {
     "name": "stdin",
     "output_type": "stream",
     "text": [
      "Enter your favorite color:  pink\n"
     ]
    },
    {
     "name": "stdout",
     "output_type": "stream",
     "text": [
      "Your favorite color is pink.\n"
     ]
    }
   ],
   "source": [
    "color = input(\"Enter your favorite color: \")\n",
    "print(f\"Your favorite color is {color}.\")"
   ]
  }
 ],
 "metadata": {
  "kernelspec": {
   "display_name": "Python 3 (ipykernel)",
   "language": "python",
   "name": "python3"
  },
  "language_info": {
   "codemirror_mode": {
    "name": "ipython",
    "version": 3
   },
   "file_extension": ".py",
   "mimetype": "text/x-python",
   "name": "python",
   "nbconvert_exporter": "python",
   "pygments_lexer": "ipython3",
   "version": "3.8.10"
  }
 },
 "nbformat": 4,
 "nbformat_minor": 5
}
