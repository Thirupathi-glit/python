{
 "cells": [
  {
   "cell_type": "code",
   "execution_count": 1,
   "id": "2b263294-72d9-44cb-b82f-49c708f82b7a",
   "metadata": {},
   "outputs": [
    {
     "name": "stdout",
     "output_type": "stream",
     "text": [
      "hello thiru\n"
     ]
    }
   ],
   "source": [
    "print(\"hello thiru\")"
   ]
  },
  {
   "cell_type": "markdown",
   "id": "a7034354-ecf9-40a1-8854-837abbdc9b42",
   "metadata": {},
   "source": [
    "# comments"
   ]
  },
  {
   "cell_type": "code",
   "execution_count": 2,
   "id": "2dc77ed3-b5e9-4d55-b54f-065ae1dd5e29",
   "metadata": {},
   "outputs": [
    {
     "data": {
      "text/plain": [
       "11"
      ]
     },
     "execution_count": 2,
     "metadata": {},
     "output_type": "execute_result"
    }
   ],
   "source": [
    "# single line comment\n",
    "\n",
    "#add two numbers\n",
    "5+6"
   ]
  },
  {
   "cell_type": "code",
   "execution_count": 11,
   "id": "0d7da017-8095-46f5-a8a3-dfca946e6616",
   "metadata": {},
   "outputs": [
    {
     "data": {
      "text/plain": [
       "30"
      ]
     },
     "execution_count": 11,
     "metadata": {},
     "output_type": "execute_result"
    }
   ],
   "source": [
    "'''\n",
    "line1\n",
    "line2\n",
    "line3\n",
    ".\n",
    ".\n",
    ".\n",
    ".\n",
    "lineN\n",
    "'''\n",
    "5*6"
   ]
  },
  {
   "cell_type": "code",
   "execution_count": 7,
   "id": "91b83743-68dc-46da-bc12-471555300668",
   "metadata": {},
   "outputs": [
    {
     "data": {
      "text/plain": [
       "11"
      ]
     },
     "execution_count": 7,
     "metadata": {},
     "output_type": "execute_result"
    }
   ],
   "source": [
    "# line1\n",
    "# line2\n",
    "# line3\n",
    "# .\n",
    "# .\n",
    "# .\n",
    "# .\n",
    "# line4\n",
    "5+6"
   ]
  },
  {
   "cell_type": "markdown",
   "id": "3c4a2d88-50b6-413d-a5f6-956035b85bc2",
   "metadata": {},
   "source": [
    "# qutoes"
   ]
  },
  {
   "cell_type": "code",
   "execution_count": 12,
   "id": "65867b71-5d04-4d4e-b396-23a05bd95bb9",
   "metadata": {},
   "outputs": [
    {
     "ename": "SyntaxError",
     "evalue": "EOL while scanning string literal (2504036007.py, line 1)",
     "output_type": "error",
     "traceback": [
      "\u001b[1;36m  Cell \u001b[1;32mIn[12], line 1\u001b[1;36m\u001b[0m\n\u001b[1;33m    '\u001b[0m\n\u001b[1;37m     ^\u001b[0m\n\u001b[1;31mSyntaxError\u001b[0m\u001b[1;31m:\u001b[0m EOL while scanning string literal\n"
     ]
    }
   ],
   "source": [
    "'\n",
    "\"\n",
    "'''  | \"\"\""
   ]
  },
  {
   "cell_type": "code",
   "execution_count": 18,
   "id": "1dbce4f0-d005-4665-addd-9d06e4a1a0ef",
   "metadata": {},
   "outputs": [
    {
     "name": "stdout",
     "output_type": "stream",
     "text": [
      "Riyansh\n"
     ]
    }
   ],
   "source": [
    "name='Riyansh'\n",
    "print(name)"
   ]
  },
  {
   "cell_type": "code",
   "execution_count": 20,
   "id": "517f2ed1-c102-44a6-9fc2-667075decdd6",
   "metadata": {},
   "outputs": [
    {
     "name": "stdout",
     "output_type": "stream",
     "text": [
      "Idexcel\n"
     ]
    }
   ],
   "source": [
    "company=\"Idexcel\"\n",
    "print(company)"
   ]
  },
  {
   "cell_type": "code",
   "execution_count": 24,
   "id": "b4a1ca33-8f6c-4072-9687-e806a666a3d4",
   "metadata": {},
   "outputs": [
    {
     "name": "stdout",
     "output_type": "stream",
     "text": [
      "st's joesph colleage engineer\n"
     ]
    }
   ],
   "source": [
    "college='st\\'s joesph colleage engineer'\n",
    "print(college)"
   ]
  },
  {
   "cell_type": "code",
   "execution_count": 25,
   "id": "cb3912d5-161e-4c3b-b233-1654e2ec8655",
   "metadata": {},
   "outputs": [],
   "source": [
    "about=\"Python is high-level language\""
   ]
  },
  {
   "cell_type": "code",
   "execution_count": 26,
   "id": "89aca654-931e-45cd-8250-84d5633122c6",
   "metadata": {},
   "outputs": [
    {
     "name": "stdout",
     "output_type": "stream",
     "text": [
      "Python is high-level language\n"
     ]
    }
   ],
   "source": [
    "print(about)"
   ]
  },
  {
   "cell_type": "code",
   "execution_count": 55,
   "id": "8df77a60-d5e9-462d-b2e1-fc76f4cfeffe",
   "metadata": {},
   "outputs": [
    {
     "name": "stdout",
     "output_type": "stream",
     "text": [
      "you can vote\n",
      "indian rule\n"
     ]
    }
   ],
   "source": [
    "x=20\n",
    "if x>18:\n",
    "  print(\"you can vote\")\n",
    "  print(\"indian rule\")\n",
    "else:\n",
    "  print(\"you cant vote\")\n",
    "  print(\"indian rule\")"
   ]
  },
  {
   "cell_type": "code",
   "execution_count": 45,
   "id": "d47b5a2b-bcbf-4980-be6a-1a012be3a9f5",
   "metadata": {},
   "outputs": [
    {
     "name": "stdout",
     "output_type": "stream",
     "text": [
      "fdhjsfdghsj\n",
      "hsjdc\n"
     ]
    }
   ],
   "source": [
    "x=15\n",
    "if x<12:\n",
    "  print(\"you can vote\")\n",
    "  print(\"vbxkzkxjchgvdhsj\")\n",
    "else:\n",
    "  print(\"fdhjsfdghsj\")  \n",
    "  print(\"hsjdc\")  \n"
   ]
  },
  {
   "cell_type": "code",
   "execution_count": 45,
   "id": "aa1b1d20-0e5b-41b7-8dc7-7444df9bcfb4",
   "metadata": {},
   "outputs": [
    {
     "name": "stdout",
     "output_type": "stream",
     "text": [
      "fdhjsfdghsj\n",
      "hsjdc\n"
     ]
    }
   ],
   "source": [
    "x=15\n",
    "if x<12:\n",
    "  print(\"you can vote\")\n",
    "  print(\"vbxkzkxjchgvdhsj\")\n",
    "else:\n",
    "  print(\"fdhjsfdghsj\")  \n",
    "  print(\"hsjdc\")  \n"
   ]
  },
  {
   "cell_type": "code",
   "execution_count": 45,
   "id": "8038f426-1fac-44ef-be0f-396460f32c75",
   "metadata": {},
   "outputs": [
    {
     "name": "stdout",
     "output_type": "stream",
     "text": [
      "fdhjsfdghsj\n",
      "hsjdc\n"
     ]
    }
   ],
   "source": [
    "x=15\n",
    "if x<12:\n",
    "  print(\"you can vote\")\n",
    "  print(\"vbxkzkxjchgvdhsj\")\n",
    "else:\n",
    "  print(\"fdhjsfdghsj\")  \n",
    "  print(\"hsjdc\")  \n"
   ]
  },
  {
   "cell_type": "code",
   "execution_count": 45,
   "id": "25aa393c-e568-4f1e-8996-21350b7aff19",
   "metadata": {},
   "outputs": [
    {
     "name": "stdout",
     "output_type": "stream",
     "text": [
      "fdhjsfdghsj\n",
      "hsjdc\n"
     ]
    }
   ],
   "source": [
    "x=15\n",
    "if x<12:\n",
    "  print(\"you can vote\")\n",
    "  print(\"vbxkzkxjchgvdhsj\")\n",
    "else:\n",
    "  print(\"fdhjsfdghsj\")  \n",
    "  print(\"hsjdc\")  \n"
   ]
  },
  {
   "cell_type": "code",
   "execution_count": 45,
   "id": "05c8ce6d-ed4a-45dc-87f8-2329c6e52147",
   "metadata": {},
   "outputs": [
    {
     "name": "stdout",
     "output_type": "stream",
     "text": [
      "fdhjsfdghsj\n",
      "hsjdc\n"
     ]
    }
   ],
   "source": [
    "x=15\n",
    "if x<12:\n",
    "  print(\"you can vote\")\n",
    "  print(\"vbxkzkxjchgvdhsj\")\n",
    "else:\n",
    "  print(\"fdhjsfdghsj\")  \n",
    "  print(\"hsjdc\")  \n"
   ]
  },
  {
   "cell_type": "code",
   "execution_count": null,
   "id": "328eb8f1-0ba0-4903-b297-f2fb69c707a7",
   "metadata": {},
   "outputs": [],
   "source": []
  },
  {
   "cell_type": "code",
   "execution_count": 53,
   "id": "a45623a4-85bf-44db-ae7d-e8d9ed9a0636",
   "metadata": {},
   "outputs": [
    {
     "name": "stdout",
     "output_type": "stream",
     "text": [
      "ThiruArav\n"
     ]
    }
   ],
   "source": [
    "a=\"Thiru\"\n",
    "b=\"Arav\"\n",
    "y=a+b\n",
    "print(y)"
   ]
  },
  {
   "cell_type": "code",
   "execution_count": 49,
   "id": "7ec7580d-c095-49c4-aa75-fefe6d909fc8",
   "metadata": {},
   "outputs": [
    {
     "name": "stdout",
     "output_type": "stream",
     "text": [
      "y\n"
     ]
    }
   ],
   "source": []
  },
  {
   "cell_type": "code",
   "execution_count": null,
   "id": "9c8bd761-824e-4a98-a02c-4fc0500b52ba",
   "metadata": {},
   "outputs": [],
   "source": []
  }
 ],
 "metadata": {
  "kernelspec": {
   "display_name": "Python 3 (ipykernel)",
   "language": "python",
   "name": "python3"
  },
  "language_info": {
   "codemirror_mode": {
    "name": "ipython",
    "version": 3
   },
   "file_extension": ".py",
   "mimetype": "text/x-python",
   "name": "python",
   "nbconvert_exporter": "python",
   "pygments_lexer": "ipython3",
   "version": "3.8.10"
  }
 },
 "nbformat": 4,
 "nbformat_minor": 5
}
