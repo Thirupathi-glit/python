{
 "cells": [
  {
   "cell_type": "code",
   "execution_count": 1,
   "id": "2b263294-72d9-44cb-b82f-49c708f82b7a",
   "metadata": {},
   "outputs": [
    {
     "name": "stdout",
     "output_type": "stream",
     "text": [
      "hello thiru\n"
     ]
    }
   ],
   "source": [
    "print(\"hello thiru\")"
   ]
  },
  {
   "cell_type": "markdown",
   "id": "a7034354-ecf9-40a1-8854-837abbdc9b42",
   "metadata": {},
   "source": [
    "# comments"
   ]
  },
  {
   "cell_type": "code",
   "execution_count": 2,
   "id": "2dc77ed3-b5e9-4d55-b54f-065ae1dd5e29",
   "metadata": {},
   "outputs": [
    {
     "data": {
      "text/plain": [
       "11"
      ]
     },
     "execution_count": 2,
     "metadata": {},
     "output_type": "execute_result"
    }
   ],
   "source": [
    "# single line comment\n",
    "\n",
    "#add two numbers\n",
    "5+6"
   ]
  },
  {
   "cell_type": "code",
   "execution_count": 4,
   "id": "0d7da017-8095-46f5-a8a3-dfca946e6616",
   "metadata": {},
   "outputs": [
    {
     "data": {
      "text/plain": [
       "30"
      ]
     },
     "execution_count": 4,
     "metadata": {},
     "output_type": "execute_result"
    }
   ],
   "source": [
    "\"\"\"\"\n",
    "line1\n",
    "line2\n",
    "line3\n",
    ".\n",
    ".\n",
    ".\n",
    ".\n",
    "lineN\n",
    "\"\"\"\n",
    "5*6"
   ]
  },
  {
   "cell_type": "code",
   "execution_count": 7,
   "id": "91b83743-68dc-46da-bc12-471555300668",
   "metadata": {},
   "outputs": [
    {
     "data": {
      "text/plain": [
       "11"
      ]
     },
     "execution_count": 7,
     "metadata": {},
     "output_type": "execute_result"
    }
   ],
   "source": [
    "# line1\n",
    "# line2\n",
    "# line3\n",
    "# .\n",
    "# .\n",
    "# .\n",
    "# .\n",
    "# line4\n",
    "5+6"
   ]
  },
  {
   "cell_type": "code",
   "execution_count": null,
   "id": "ac75631c-c8b5-4c85-8c12-6ecad979321d",
   "metadata": {},
   "outputs": [],
   "source": []
  }
 ],
 "metadata": {
  "kernelspec": {
   "display_name": "Python 3 (ipykernel)",
   "language": "python",
   "name": "python3"
  },
  "language_info": {
   "codemirror_mode": {
    "name": "ipython",
    "version": 3
   },
   "file_extension": ".py",
   "mimetype": "text/x-python",
   "name": "python",
   "nbconvert_exporter": "python",
   "pygments_lexer": "ipython3",
   "version": "3.8.10"
  }
 },
 "nbformat": 4,
 "nbformat_minor": 5
}
